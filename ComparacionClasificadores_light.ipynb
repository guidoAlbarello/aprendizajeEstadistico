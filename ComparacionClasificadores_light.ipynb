{
 "cells": [
  {
   "cell_type": "code",
   "execution_count": 18,
   "metadata": {},
   "outputs": [],
   "source": [
    "import matplotlib.pyplot as plt\n",
    "import matplotlib\n",
    "import math as math\n",
    "import pandas as pd\n",
    "import numpy as np\n",
    "from scipy.spatial import Voronoi, voronoi_plot_2d\n",
    "from scipy import stats"
   ]
  },
  {
   "cell_type": "code",
   "execution_count": 19,
   "metadata": {},
   "outputs": [],
   "source": [
    "def invFx1(u):\n",
    "    if u < 0.5:\n",
    "        b = math.sqrt(u/2)\n",
    "    else:\n",
    "        b = - math.sqrt(-(u - 1 )/2) + 1\n",
    "    return b"
   ]
  },
  {
   "cell_type": "code",
   "execution_count": 20,
   "metadata": {},
   "outputs": [],
   "source": [
    "def invFx2(u):\n",
    "    if u < 0.5:\n",
    "        b = math.sqrt(u/2)\n",
    "    else:\n",
    "        b = - math.sqrt(-(u - 1 )/2) + 1\n",
    "    return b"
   ]
  },
  {
   "cell_type": "code",
   "execution_count": 21,
   "metadata": {},
   "outputs": [],
   "source": [
    "def invFyxx2(u):\n",
    "    random = np.random.uniform(0,1,1)\n",
    "    if u < 0.5:\n",
    "        b = random * (2 * u) + 1 - 2 * u\n",
    "    else:\n",
    "        b = random * (2 - 2 * u ) -1 + 2* u\n",
    "    return b"
   ]
  },
  {
   "cell_type": "code",
   "execution_count": 22,
   "metadata": {},
   "outputs": [],
   "source": [
    "def invFyxx1(u):\n",
    "    random = np.random.uniform(0,1,1)\n",
    "    if u < 0.5:\n",
    "        b = random * (2 * u) \n",
    "    else:\n",
    "        b = random * (2 - 2 * u)\n",
    "    return b"
   ]
  },
  {
   "cell_type": "code",
   "execution_count": 23,
   "metadata": {},
   "outputs": [],
   "source": [
    "def makePoint(coin, random):\n",
    "    if coin > 0.5:\n",
    "        return (tB, '')"
   ]
  },
  {
   "cell_type": "code",
   "execution_count": 24,
   "metadata": {},
   "outputs": [],
   "source": [
    "def makeSample(c):\n",
    "    if c > 0.5:\n",
    "        x = invFx1(np.random.uniform(0,1,1))\n",
    "        y = invFyxx1(x)\n",
    "        clas = 0\n",
    "    else:\n",
    "        x = invFx2(np.random.uniform(0,1,1))\n",
    "        y = invFyxx2(x)\n",
    "        clas = 1\n",
    "    return (x,y, clas)"
   ]
  },
  {
   "cell_type": "code",
   "execution_count": 8,
   "metadata": {},
   "outputs": [],
   "source": [
    "#generar puntos de train y test\n",
    "train_points = map(makeSample, np.random.uniform(0,1,1000))\n",
    "test_points = map(makeSample, np.random.uniform(0,1,300))\n",
    "\n",
    "xtr,ytr,ctr = zip(*train_points)\n",
    "arr = np.array(list(zip(xtr,ytr,ctr)))\n",
    "train_data = pd.DataFrame(data=arr,columns=['x','y','class'])\n",
    "xte,yte,cte = zip(*test_points)\n",
    "arrte = np.array(list(zip(xte,yte,cte)))\n",
    "test_data = pd.DataFrame(data=arrte,columns=['x','y','class'])"
   ]
  },
  {
   "cell_type": "code",
   "execution_count": 35,
   "metadata": {},
   "outputs": [
    {
     "data": {
      "image/png": "[encoded data removed]",
      "text/plain": [
       "<Figure size 432x288 with 1 Axes>"
      ]
     },
     "metadata": {
      "needs_background": "light"
     },
     "output_type": "display_data"
    }
   ],
   "source": [
    "%matplotlib inline\n",
    "plt.scatter(xtr,ytr,s=3.14)\n",
    "plt.axhline(0.5, lw=2, color='k', zorder=5)\n",
    "plt.axvline(0.5, lw=2, color='k', zorder=5)\n",
    "plt.show()"
   ]
  },
  {
   "cell_type": "code",
   "execution_count": 25,
   "metadata": {},
   "outputs": [],
   "source": [
    "def getSection_s1(x,y):\n",
    "    #para esquema 1\n",
    "    #__________\n",
    "    #|0        |\n",
    "    #|_________|\n",
    "    #|1        |\n",
    "    #|_________|\n",
    "    if y > 0.5:\n",
    "        return 0\n",
    "    return 1"
   ]
  },
  {
   "cell_type": "code",
   "execution_count": 26,
   "metadata": {},
   "outputs": [],
   "source": [
    "def getSection_s2(x,y):\n",
    "    #para esquema 2\n",
    "    #__________\n",
    "    #|0   |1   |\n",
    "    #|    |    |\n",
    "    #|    |    |\n",
    "    #|____|____|\n",
    "    if x > 0.5:\n",
    "        return 1\n",
    "    return 0"
   ]
  },
  {
   "cell_type": "code",
   "execution_count": 27,
   "metadata": {},
   "outputs": [],
   "source": [
    "def getSection_s3(x,y):\n",
    "    #para esquema 2\n",
    "    #__________\n",
    "    #|0   |1   |\n",
    "    #|____|____|\n",
    "    #|2   |3   |\n",
    "    #|____|____|\n",
    "    if (x < 0.5):\n",
    "        if (y > 0.5):\n",
    "            return 0\n",
    "        else:\n",
    "            return 2\n",
    "    else:\n",
    "        if (y > 0.5):\n",
    "            return 1\n",
    "        else:\n",
    "            return 3"
   ]
  },
  {
   "cell_type": "code",
   "execution_count": 28,
   "metadata": {},
   "outputs": [],
   "source": [
    "def getSection_s4(x,y):\n",
    "    #para esquema 4\n",
    "    #__________\n",
    "    #|0       /|\n",
    "    #|      /  |\n",
    "    #|    /    |\n",
    "    #|  /    1 |\n",
    "    #|/________|\n",
    "    if (y > x):\n",
    "        return 0\n",
    "    else:\n",
    "        return 1"
   ]
  },
  {
   "cell_type": "code",
   "execution_count": 29,
   "metadata": {},
   "outputs": [],
   "source": [
    "def getSection_s5(x,y):\n",
    "    #para esquema 5\n",
    "    #__________\n",
    "    #|\\      0 |\n",
    "    #|  \\      |\n",
    "    #|    \\    |\n",
    "    #| 1    \\  |\n",
    "    #|________\\|\n",
    "    if (y > (-x+1)):\n",
    "        return 0\n",
    "    else:\n",
    "        return 1"
   ]
  },
  {
   "cell_type": "code",
   "execution_count": 30,
   "metadata": {},
   "outputs": [],
   "source": [
    "def getSection_s6(x,y):\n",
    "    #para esquema 6\n",
    "    #__________\n",
    "    #|\\    0   /|\n",
    "    #|  \\    /  |\n",
    "    #|1   \\/  2 |\n",
    "    #|    / \\   |\n",
    "    #|  /  3  \\ |\n",
    "    #|/________\\|\n",
    "    \n",
    "    if (x < 0.5):\n",
    "        if (y < x):\n",
    "            return 3\n",
    "        elif ((y >= x) and (y < (-x+1))):\n",
    "            return 1\n",
    "        elif (y >= (-x+1)):\n",
    "            return 0\n",
    "    else:\n",
    "        if (y < (-x+1)):\n",
    "            return 3\n",
    "        elif ((y >= (-x+1)) and (y < x)):\n",
    "            return 2\n",
    "        elif (y >= x):\n",
    "            return 0"
   ]
  },
  {
   "cell_type": "code",
   "execution_count": 31,
   "metadata": {},
   "outputs": [],
   "source": [
    "def getSection(s,x,y):\n",
    "    if s==1: \n",
    "        return getSection_s1(x,y)    \n",
    "    elif s==2:\n",
    "        return getSection_s2(x,y)\n",
    "    elif s==3:\n",
    "        return getSection_s3(x,y) \n",
    "    elif s==4:\n",
    "        return getSection_s4(x,y) \n",
    "    elif s==5:\n",
    "        return getSection_s5(x,y) \n",
    "    elif s==6:\n",
    "        return getSection_s6(x,y)     "
   ]
  },
  {
   "cell_type": "code",
   "execution_count": 32,
   "metadata": {},
   "outputs": [],
   "source": [
    "def runClassification(s,train, test):\n",
    "    train_data_g = train\n",
    "    train_data_g['section'] = train_data_g.apply(lambda row: getSection(s,row['x'], row['y']), axis=1)\n",
    "    section_results_g = train_data_g.groupby(['section', 'class']).count().reset_index().rename(columns={'x': 'count'}).iloc[:,0:3]\n",
    "    classifier_g = section_results_g.loc[section_results_g.groupby('section')['count'].idxmax()].reset_index().iloc[:,1:4]\n",
    "    test_data_g = test\n",
    "    test_data_g['section'] = test_data_g.apply(lambda row: getSection(s,row['x'], row['y']), axis=1)\n",
    "    test_data_g['classification'] = test_data_g.apply(lambda row, c=classifier_g.transpose(): c.at['class',int(row['section'])], axis=1)\n",
    "    test_data_g['result'] = test_data_g.apply(lambda row: int(row['class'])==int(row['classification']), axis=1)\n",
    "    final_result_g = test_data_g.groupby(['result']).count().reset_index().rename(columns={'x': 'count'}).iloc[:,0:2]\n",
    "    return final_result_g"
   ]
  },
  {
   "cell_type": "code",
   "execution_count": 33,
   "metadata": {},
   "outputs": [
    {
     "data": {
      "text/html": [
       "<div>\n",
       "<style scoped>\n",
       "    .dataframe tbody tr th:only-of-type {\n",
       "        vertical-align: middle;\n",
       "    }\n",
       "\n",
       "    .dataframe tbody tr th {\n",
       "        vertical-align: top;\n",
       "    }\n",
       "\n",
       "    .dataframe thead th {\n",
       "        text-align: right;\n",
       "    }\n",
       "</style>\n",
       "<table border=\"1\" class=\"dataframe\">\n",
       "  <thead>\n",
       "    <tr style=\"text-align: right;\">\n",
       "      <th></th>\n",
       "      <th>classificator</th>\n",
       "      <th>errors</th>\n",
       "      <th>valid</th>\n",
       "    </tr>\n",
       "  </thead>\n",
       "  <tbody>\n",
       "    <tr>\n",
       "      <th>0</th>\n",
       "      <td>1</td>\n",
       "      <td>89</td>\n",
       "      <td>211</td>\n",
       "    </tr>\n",
       "    <tr>\n",
       "      <th>2</th>\n",
       "      <td>3</td>\n",
       "      <td>89</td>\n",
       "      <td>211</td>\n",
       "    </tr>\n",
       "    <tr>\n",
       "      <th>5</th>\n",
       "      <td>6</td>\n",
       "      <td>103</td>\n",
       "      <td>197</td>\n",
       "    </tr>\n",
       "    <tr>\n",
       "      <th>3</th>\n",
       "      <td>4</td>\n",
       "      <td>104</td>\n",
       "      <td>196</td>\n",
       "    </tr>\n",
       "    <tr>\n",
       "      <th>4</th>\n",
       "      <td>5</td>\n",
       "      <td>109</td>\n",
       "      <td>191</td>\n",
       "    </tr>\n",
       "    <tr>\n",
       "      <th>1</th>\n",
       "      <td>2</td>\n",
       "      <td>147</td>\n",
       "      <td>153</td>\n",
       "    </tr>\n",
       "  </tbody>\n",
       "</table>\n",
       "</div>"
      ],
      "text/plain": [
       "   classificator  errors  valid\n",
       "0              1      89    211\n",
       "2              3      89    211\n",
       "5              6     103    197\n",
       "3              4     104    196\n",
       "4              5     109    191\n",
       "1              2     147    153"
      ]
     },
     "execution_count": 33,
     "metadata": {},
     "output_type": "execute_result"
    }
   ],
   "source": [
    "cols=['classificator','errors','valid']\n",
    "lst=[]\n",
    "for i in range(1, 7):\n",
    "    classification = runClassification(i,train_data, test_data)\n",
    "    lst.append([i,classification.at[0,'count'], classification.at[1,'count']])\n",
    "general_result = pd.DataFrame(lst,columns=cols)\n",
    "general_result.sort_values(by=['errors'],ascending=1)"
   ]
  },
  {
   "cell_type": "code",
   "execution_count": null,
   "metadata": {},
   "outputs": [],
   "source": []
  }
 ],
 "metadata": {
  "kernelspec": {
   "display_name": "Python 3",
   "language": "python",
   "name": "python3"
  },
  "language_info": {
   "codemirror_mode": {
    "name": "ipython",
    "version": 3
   },
   "file_extension": ".py",
   "mimetype": "text/x-python",
   "name": "python",
   "nbconvert_exporter": "python",
   "pygments_lexer": "ipython3",
   "version": "3.5.2"
  }
 },
 "nbformat": 4,
 "nbformat_minor": 2
}
