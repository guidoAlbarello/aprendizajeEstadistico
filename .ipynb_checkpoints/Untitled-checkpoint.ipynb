{
 "cells": [
  {
   "cell_type": "code",
   "execution_count": 1,
   "metadata": {},
   "outputs": [],
   "source": [
    "import matplotlib.pyplot as plt\n",
    "import math as math\n",
    "import pandas as pd\n",
    "import numpy as np\n",
    "from scipy import stats"
   ]
  },
  {
   "cell_type": "code",
   "execution_count": 2,
   "metadata": {},
   "outputs": [],
   "source": [
    "def X(u):\n",
    "    return stats.truncnorm.ppf(u,-1,1)"
   ]
  },
  {
   "cell_type": "code",
   "execution_count": 3,
   "metadata": {},
   "outputs": [],
   "source": [
    "def estimator(x):\n",
    "    if (x >= -1 and x < -0.5):\n",
    "        return math.pow(x+2,2)/2\n",
    "    \n",
    "    if (x >= -0.5 and x < 0): \n",
    "        return x/2 + 0.875\n",
    "    \n",
    "    if (x >= 0 and x < 0.5):\n",
    "        return -5 * math.pow(x-0.2,2) + 1.075\n",
    "    \n",
    "    if (x >= 0.5 and x < 1):\n",
    "        return x + 0.125"
   ]
  },
  {
   "cell_type": "code",
   "execution_count": 4,
   "metadata": {},
   "outputs": [],
   "source": [
    "def var(x):\n",
    "    dev = 0.2 - 0.1 * math.cos(2 * math.pi * x)\n",
    "    return dev * dev "
   ]
  },
  {
   "cell_type": "code",
   "execution_count": 5,
   "metadata": {},
   "outputs": [],
   "source": [
    "def getPoint(u):\n",
    "    x = X(u)\n",
    "    m = estimator(x)\n",
    "    n = np.random.normal(0, var(x))\n",
    "    y = n + m\n",
    "    return (x,y)"
   ]
  },
  {
   "cell_type": "code",
   "execution_count": 29,
   "metadata": {},
   "outputs": [],
   "source": [
    "randomValues = np.random.uniform(0,1,200)\n",
    "#randomValues = stats.truncnorm.rvs(-1,1,size=200)\n",
    "values = map(getPoint, randomValues)\n",
    "x, y = zip(*values)"
   ]
  },
  {
   "cell_type": "code",
   "execution_count": 30,
   "metadata": {},
   "outputs": [
    {
     "data": {
      "image/png": "[encoded data removed]",
      "text/plain": [
       "<Figure size 432x288 with 1 Axes>"
      ]
     },
     "metadata": {},
     "output_type": "display_data"
    }
   ],
   "source": [
    "%matplotlib inline\n",
    "valuesEstimator = []\n",
    "for i in np.linspace(-1,1,200):\n",
    "    valuesEstimator.append((i,estimator(i)))\n",
    "xE, yE = zip(*valuesEstimator)\n",
    "plt.plot(xE,yE)\n",
    "plt.xlim(-1,1)\n",
    "plt.scatter(xE,yE,s=np.pi * 3)\n",
    "plt.show()"
   ]
  },
  {
   "cell_type": "code",
   "execution_count": 31,
   "metadata": {},
   "outputs": [
    {
     "data": {
      "image/png": "[encoded data removed]",
      "text/plain": [
       "<Figure size 432x288 with 1 Axes>"
      ]
     },
     "metadata": {},
     "output_type": "display_data"
    }
   ],
   "source": [
    "%matplotlib inline\n",
    "\n",
    "plt.scatter(x,y,s=np.pi * 3)\n",
    "plt.xlim(-1,1)\n",
    "plt.show()"
   ]
  },
  {
   "cell_type": "code",
   "execution_count": 32,
   "metadata": {},
   "outputs": [],
   "source": [
    "df = pd.DataFrame(data={'x': x , 'y':y}).head(200)"
   ]
  },
  {
   "cell_type": "code",
   "execution_count": 33,
   "metadata": {},
   "outputs": [
    {
     "name": "stdout",
     "output_type": "stream",
     "text": [
      "            x         y\n",
      "0    0.579196  0.685752\n",
      "1    0.181052  1.055603\n",
      "2   -0.656664  0.968691\n",
      "3    0.021661  0.917944\n",
      "4   -0.752527  0.736130\n",
      "5    0.541773  0.667295\n",
      "6    0.098332  0.995344\n",
      "7    0.754314  0.918465\n",
      "8   -0.284240  0.816913\n",
      "9    0.649263  0.814105\n",
      "10   0.887158  1.013897\n",
      "11   0.649962  0.642190\n",
      "12  -0.182504  0.780189\n",
      "13  -0.173664  0.808475\n",
      "14   0.260160  1.042195\n",
      "15  -0.356411  0.707090\n",
      "16  -0.454630  0.597777\n",
      "17   0.325385  0.960206\n",
      "18   0.649874  0.864090\n",
      "19  -0.876653  0.640814\n",
      "20  -0.664462  0.859963\n",
      "21  -0.699338  0.788143\n",
      "22   0.662667  0.772269\n",
      "23  -0.279803  0.747830\n",
      "24  -0.252926  0.787675\n",
      "25  -0.942782  0.553189\n",
      "26   0.337619  0.905766\n",
      "27   0.010167  0.902551\n",
      "28   0.634394  0.695167\n",
      "29   0.307706  1.092409\n",
      "30  -0.165580  0.800036\n",
      "31  -0.368996  0.690134\n",
      "32  -0.133252  0.807347\n",
      "33   0.403408  0.841602\n",
      "34  -0.618837  0.895533\n",
      "35   0.560213  0.585504\n",
      "36   0.258953  1.105632\n",
      "37   0.289361  1.063887\n",
      "38   0.060607  0.971724\n",
      "39  -0.650995  0.984804\n",
      "40   0.394720  0.916963\n",
      "41  -0.346511  0.565420\n",
      "42   0.587098  0.654096\n",
      "43  -0.868624  0.672315\n",
      "44  -0.024197  0.858125\n",
      "45   0.049939  0.955389\n",
      "46   0.056537  0.981732\n",
      "47  -0.579410  0.989268\n",
      "48   0.484268  0.784924\n",
      "49   0.440218  0.712927\n",
      "50   0.755593  0.915468\n",
      "51   0.367221  0.861120\n",
      "52  -0.439874  0.540186\n",
      "53   0.970433  1.076264\n",
      "54   0.021401  0.907362\n",
      "55   0.096424  1.026006\n",
      "56   0.707199  0.765520\n",
      "57   0.960189  1.078916\n",
      "58   0.239164  1.038948\n",
      "59   0.768161  0.907851\n",
      "60   0.059408  0.976626\n",
      "61  -0.135335  0.819540\n",
      "62   0.568067  0.759157\n",
      "63  -0.316359  0.811272\n",
      "64  -0.051125  0.847934\n",
      "65   0.009669  0.897722\n",
      "66  -0.469697  0.549079\n",
      "67  -0.335980  0.812561\n",
      "68   0.864545  0.968376\n",
      "69  -0.311103  0.686380\n",
      "70   0.338091  1.010715\n",
      "71  -0.048567  0.847805\n",
      "72  -0.281371  0.785595\n",
      "73  -0.781201  0.755059\n",
      "74   0.414331  0.796620\n",
      "75   0.680264  0.810313\n",
      "76  -0.744116  0.817452\n",
      "77  -0.383298  0.584830\n",
      "78  -0.308390  0.766980\n",
      "79   0.796456  0.922561\n",
      "80  -0.215806  0.784846\n",
      "81  -0.533625  1.017759\n",
      "82   0.544087  0.799351\n",
      "83   0.060031  0.989749\n",
      "84  -0.527467  1.103571\n",
      "85   0.750314  0.960832\n",
      "86  -0.007699  0.863065\n",
      "87  -0.283485  0.772982\n",
      "88   0.495171  0.841106\n",
      "89   0.736870  0.836305\n",
      "90   0.346405  0.877953\n",
      "91  -0.661389  0.894156\n",
      "92  -0.480705  0.642044\n",
      "93  -0.199898  0.738380\n",
      "94   0.074599  1.011710\n",
      "95   0.543496  0.747609\n",
      "96   0.283939  0.950482\n",
      "97   0.014280  0.896714\n",
      "98   0.250262  1.027607\n",
      "99   0.796923  0.961438\n",
      "100  0.418269  0.865691\n",
      "101  0.155375  1.068702\n",
      "102 -0.046299  0.868816\n",
      "103 -0.948634  0.549768\n",
      "104 -0.127765  0.811609\n",
      "105  0.079601  0.989019\n",
      "106  0.062504  0.972063\n",
      "107  0.880828  1.054328\n",
      "108  0.501791  0.722653\n",
      "109  0.634580  0.787803\n",
      "110 -0.459856  0.631783\n",
      "111 -0.376914  0.690111\n",
      "112  0.016906  0.897173\n",
      "113  0.858892  0.997737\n",
      "114 -0.186551  0.783196\n",
      "115 -0.973099  0.514870\n",
      "116  0.460395  0.615357\n",
      "117 -0.785483  0.726358\n",
      "118  0.469411  0.774487\n",
      "119 -0.957604  0.531923\n",
      "120 -0.923353  0.575848\n",
      "121 -0.392798  0.727201\n",
      "122  0.173276  1.037521\n",
      "123  0.001904  0.875973\n",
      "124  0.572335  0.588024\n",
      "125  0.504655  0.649388\n",
      "126 -0.126716  0.816138\n",
      "127 -0.045605  0.838520\n",
      "128 -0.088260  0.816538\n",
      "129  0.333536  1.073212\n",
      "130  0.569160  0.876127\n",
      "131 -0.285780  0.698788\n",
      "132 -0.427856  0.580681\n",
      "133 -0.208473  0.814558\n",
      "134 -0.829129  0.683211\n",
      "135 -0.324934  0.643480\n",
      "136  0.612248  0.680924\n",
      "137  0.158155  1.025875\n",
      "138 -0.308856  0.665194\n",
      "139 -0.844999  0.653961\n",
      "140 -0.044334  0.868779\n",
      "141 -0.064869  0.835456\n",
      "142  0.627854  0.675741\n",
      "143  0.023341  0.917865\n",
      "144  0.513769  0.633442\n",
      "145  0.906710  1.057264\n",
      "146  0.475734  0.590038\n",
      "147 -0.150548  0.797465\n",
      "148  0.681617  0.722711\n",
      "149 -0.309821  0.820058\n",
      "150  0.393416  0.890661\n",
      "151 -0.175097  0.799783\n",
      "152 -0.851626  0.674904\n",
      "153 -0.296448  0.764696\n",
      "154  0.551461  0.626224\n",
      "155  0.261178  1.030281\n",
      "156 -0.322921  0.739512\n",
      "157 -0.287258  0.649541\n",
      "158 -0.299177  0.734121\n",
      "159  0.132976  1.071790\n",
      "160  0.462156  0.812856\n",
      "161  0.775492  0.933503\n",
      "162  0.161460  1.062003\n",
      "163 -0.095924  0.825823\n",
      "164 -0.836327  0.698498\n",
      "165  0.472946  0.764391\n",
      "166 -0.089535  0.802180\n",
      "167  0.194604  1.079649\n",
      "168 -0.561641  1.057160\n",
      "169 -0.535055  1.064017\n",
      "170 -0.056393  0.829427\n",
      "171  0.721598  0.905991\n",
      "172  0.164022  1.056345\n",
      "173 -0.561234  1.100977\n",
      "174  0.076383  0.998834\n",
      "175  0.218993  1.082329\n",
      "176 -0.288715  0.808660\n",
      "177 -0.472041  0.467266\n",
      "178 -0.176014  0.773047\n",
      "179 -0.549059  0.929814\n",
      "180 -0.969362  0.532167\n",
      "181  0.471910  0.693615\n",
      "182 -0.677846  0.816056\n",
      "183  0.445768  0.892263\n",
      "184 -0.123784  0.812559\n",
      "185 -0.516011  1.011083\n",
      "186 -0.043289  0.834513\n",
      "187  0.102117  1.050624\n",
      "188  0.186256  1.074978\n",
      "189  0.433257  0.822232\n",
      "190 -0.744785  0.744907\n",
      "191  0.245550  1.042492\n",
      "192  0.496517  0.637413\n",
      "193  0.147907  1.062150\n",
      "194  0.398167  0.957336\n",
      "195  0.943662  1.081338\n",
      "196  0.166629  1.046203\n",
      "197  0.005457  0.877021\n",
      "198  0.188192  1.079569\n",
      "199 -0.776150  0.733445\n"
     ]
    }
   ],
   "source": [
    "print (df.to_string())"
   ]
  },
  {
   "cell_type": "code",
   "execution_count": 13,
   "metadata": {},
   "outputs": [
    {
     "data": {
      "image/png": "[encoded data removed]",
      "text/plain": [
       "<Figure size 432x288 with 1 Axes>"
      ]
     },
     "metadata": {},
     "output_type": "display_data"
    }
   ],
   "source": [
    "x = np.random.uniform(0,1,100000)\n",
    "y = list(map(lambda z: stats.truncnorm.ppf(z,-1,1), x))\n",
    "\n",
    "%matplotlib inline\n",
    "plt.hist(y,bins=\"auto\")\n",
    "plt.show()"
   ]
  },
  {
   "cell_type": "code",
   "execution_count": 16,
   "metadata": {},
   "outputs": [
    {
     "data": {
      "image/png": "[encoded data removed]",
      "text/plain": [
       "<Figure size 432x288 with 1 Axes>"
      ]
     },
     "metadata": {},
     "output_type": "display_data"
    }
   ],
   "source": [
    "i  = 0\n",
    "values = []\n",
    "while i < 100000:\n",
    "    x = np.random.uniform(0,1,1)\n",
    "    y = np.random.normal(0, 1)\n",
    "    if y >= -1 and y <= 1:\n",
    "        i = i +1\n",
    "        values.append(y)\n",
    "        \n",
    "%matplotlib inline\n",
    "plt.hist(values,bins=\"auto\")\n",
    "plt.show()"
   ]
  },
  {
   "cell_type": "code",
   "execution_count": null,
   "metadata": {
    "collapsed": true
   },
   "outputs": [],
   "source": []
  }
 ],
 "metadata": {
  "kernelspec": {
   "display_name": "Python 3",
   "language": "python",
   "name": "python3"
  },
  "language_info": {
   "codemirror_mode": {
    "name": "ipython",
    "version": 3
   },
   "file_extension": ".py",
   "mimetype": "text/x-python",
   "name": "python",
   "nbconvert_exporter": "python",
   "pygments_lexer": "ipython3",
   "version": "3.6.5"
  }
 },
 "nbformat": 4,
 "nbformat_minor": 2
}
