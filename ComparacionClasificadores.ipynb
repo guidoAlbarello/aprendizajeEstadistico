{
 "cells": [
  {
   "cell_type": "code",
   "execution_count": 1,
   "metadata": {},
   "outputs": [],
   "source": [
    "import matplotlib.pyplot as plt\n",
    "import matplotlib\n",
    "import math as math\n",
    "import pandas as pd\n",
    "import numpy as np\n",
    "from scipy.spatial import Voronoi, voronoi_plot_2d\n",
    "from scipy import stats"
   ]
  },
  {
   "cell_type": "code",
   "execution_count": 2,
   "metadata": {},
   "outputs": [],
   "source": [
    "def invFx1(u):\n",
    "    if u < 0.5:\n",
    "        b = math.sqrt(u/2)\n",
    "    else:\n",
    "        b = - math.sqrt(-(u - 1 )/2) + 1\n",
    "    return b"
   ]
  },
  {
   "cell_type": "code",
   "execution_count": 3,
   "metadata": {},
   "outputs": [],
   "source": [
    "def invFx2(u):\n",
    "    if u < 0.5:\n",
    "        b = math.sqrt(u/2)\n",
    "    else:\n",
    "        b = - math.sqrt(-(u - 1 )/2) + 1\n",
    "    return b"
   ]
  },
  {
   "cell_type": "code",
   "execution_count": 4,
   "metadata": {},
   "outputs": [],
   "source": [
    "def invFyxx2(u):\n",
    "    random = np.random.uniform(0,1,1)\n",
    "    if u < 0.5:\n",
    "        b = random * (2 * u) + 1 - 2 * u\n",
    "    else:\n",
    "        b = random * (2 - 2 * u ) -1 + 2* u\n",
    "    return b"
   ]
  },
  {
   "cell_type": "code",
   "execution_count": 5,
   "metadata": {},
   "outputs": [],
   "source": [
    "def invFyxx1(u):\n",
    "    random = np.random.uniform(0,1,1)\n",
    "    if u < 0.5:\n",
    "        b = random * (2 * u) \n",
    "    else:\n",
    "        b = random * (2 - 2 * u)\n",
    "    return b"
   ]
  },
  {
   "cell_type": "code",
   "execution_count": 6,
   "metadata": {},
   "outputs": [],
   "source": [
    "def makePoint(coin, random):\n",
    "    if coin > 0.5:\n",
    "        return (tB, '')"
   ]
  },
  {
   "cell_type": "code",
   "execution_count": 7,
   "metadata": {},
   "outputs": [],
   "source": [
    "def makeSample(c):\n",
    "    if c > 0.5:\n",
    "        x = invFx1(np.random.uniform(0,1,1))\n",
    "        y = invFyxx1(x)\n",
    "        clas = 0\n",
    "    else:\n",
    "        x = invFx2(np.random.uniform(0,1,1))\n",
    "        y = invFyxx2(x)\n",
    "        clas = 1\n",
    "    return (x,y, clas)"
   ]
  },
  {
   "cell_type": "code",
   "execution_count": null,
   "metadata": {},
   "outputs": [],
   "source": []
  },
  {
   "cell_type": "code",
   "execution_count": 8,
   "metadata": {},
   "outputs": [],
   "source": [
    "def inRectangle(x,y, rx,ry, w,d):\n",
    "    return x >= rx and rx + w > x and y >= ry and ry + h > y"
   ]
  },
  {
   "cell_type": "code",
   "execution_count": 9,
   "metadata": {},
   "outputs": [],
   "source": [
    "#generar puntos de train y test\n",
    "train_points = map(makeSample, np.random.uniform(0,1,1000))\n",
    "test_points = map(makeSample, np.random.uniform(0,1,300))\n",
    "\n",
    "xtr,ytr,ctr = zip(*train_points)\n",
    "arr = np.array(list(zip(xtr,ytr,ctr)))\n",
    "train_data = pd.DataFrame(data=arr,columns=['x','y','class'])\n",
    "xte,yte,cte = zip(*test_points)\n",
    "arrte = np.array(list(zip(xte,yte,cte)))\n",
    "test_data = pd.DataFrame(data=arrte,columns=['x','y','class'])"
   ]
  },
  {
   "cell_type": "code",
   "execution_count": 53,
   "metadata": {},
   "outputs": [],
   "source": [
    "def getSection_s1(x,y):\n",
    "    #para esquema 1\n",
    "    #__________\n",
    "    #|0        |\n",
    "    #|_________|\n",
    "    #|1        |\n",
    "    #|_________|\n",
    "    if y > 0.5:\n",
    "        return 0\n",
    "    return 1\n",
    "\n",
    "def getSection_s2(x,y):\n",
    "    #para esquema 2\n",
    "    #__________\n",
    "    #|0   |1   |\n",
    "    #|    |    |\n",
    "    #|    |    |\n",
    "    #|____|____|\n",
    "    if x > 0.5:\n",
    "        return 1\n",
    "    return 0\n",
    "\n",
    "def getSection_s3(x,y):\n",
    "    #para esquema 2\n",
    "    #__________\n",
    "    #|0   |1   |\n",
    "    #|____|____|\n",
    "    #|2   |3   |\n",
    "    #|____|____|\n",
    "    if (x < 0.5):\n",
    "        if (y > 0.5):\n",
    "            return 0\n",
    "        else:\n",
    "            return 2\n",
    "    else:\n",
    "        if (y > 0.5):\n",
    "            return 1\n",
    "        else:\n",
    "            return 3\n",
    "        \n",
    "def getSection_s4(x,y):\n",
    "    #para esquema 4\n",
    "    #__________\n",
    "    #|0       /|\n",
    "    #|      /  |\n",
    "    #|    /    |\n",
    "    #|  /    1 |\n",
    "    #|/________|\n",
    "    if (y > x):\n",
    "        return 0\n",
    "    else:\n",
    "        return 1\n",
    "    \n",
    "def getSection_s5(x,y):\n",
    "    #para esquema 5\n",
    "    #__________\n",
    "    #|\\      0 |\n",
    "    #|  \\      |\n",
    "    #|    \\    |\n",
    "    #| 1    \\  |\n",
    "    #|________\\|\n",
    "    if (y > (-x+1)):\n",
    "        return 0\n",
    "    else:\n",
    "        return 1\n",
    "    \n",
    "def getSection_s6(x,y):\n",
    "    #para esquema 6\n",
    "    #__________\n",
    "    #|\\    0   /|\n",
    "    #|  \\    /  |\n",
    "    #|1   \\/  2 |\n",
    "    #|    / \\   |\n",
    "    #|  /  3  \\ |\n",
    "    #|/________\\|\n",
    "    \n",
    "    if (x < 0.5):\n",
    "        if (y < x):\n",
    "            return 3\n",
    "        elif ((y >= x) and (y < (-x+1))):\n",
    "            return 1\n",
    "        elif (y >= (-x+1)):\n",
    "            return 0\n",
    "    else:\n",
    "        if (y < (-x+1)):\n",
    "            return 3\n",
    "        elif ((y >= (-x+1)) and (y < x)):\n",
    "            return 2\n",
    "        elif (y >= x):\n",
    "            return 0\n",
    "        \n",
    "def getSection(s,x,y):\n",
    "    if s==1: \n",
    "        return getSection_s1(x,y)    \n",
    "    elif s==2:\n",
    "        return getSection_s2(x,y)\n",
    "    elif s==3:\n",
    "        return getSection_s3(x,y) \n",
    "    elif s==4:\n",
    "        return getSection_s4(x,y) \n",
    "    elif s==5:\n",
    "        return getSection_s5(x,y) \n",
    "    elif s==6:\n",
    "        return getSection_s6(x,y)     "
   ]
  },
  {
   "cell_type": "code",
   "execution_count": 11,
   "metadata": {},
   "outputs": [],
   "source": [
    "    #Analisis para esquema 1\n",
    "    #__________\n",
    "    #|         |\n",
    "    #|_________|\n",
    "    #|         |\n",
    "    #|_________|\n",
    "train_data_s1 = train_data\n",
    "# se determina a que seccion del plano pertenece el punto\n",
    "train_data_s1['section'] = train_data_s1.apply(lambda row: getSection_s1(row['x'], row['y']), axis=1)\n",
    "# se cuentan la cantidad de puntos para cada seccion del plano de acuerdo a la clase de los puntos\n",
    "section_results_s1 = train_data_s1.groupby(['section', 'class']).count().reset_index().rename(columns={'x': 'count'}).iloc[:,0:3]\n",
    "# se determina un clasificador según la cantidad maxima de puntos de una determinada clase\n",
    "classifier_s1 = section_results_s1.loc[section_results_s1.groupby('section')['count'].idxmax()].reset_index().iloc[:,1:4]\n",
    "\n",
    "#def getClassification(section, classifier):\n",
    "#    return classifier_s1.transpose().iloc[section][1]\n",
    "\n",
    "test_data_s1 = test_data\n",
    "# se identifica a que seccion del plano pertenece el punto\n",
    "test_data_s1['section'] = test_data_s1.apply(lambda row: getSection_s1(row['x'], row['y']), axis=1)\n",
    "# se clasifica el punto de acuerdo al clasificador elegido\n",
    "test_data_s1['classification'] = test_data_s1.apply(lambda row, c=classifier_s1.transpose(): c.iloc[int(row['section'])][1], axis=1)\n",
    "# se evalua si la clasificacion del punto fue exitosa\n",
    "test_data_s1['result'] = test_data_s1.apply(lambda row: int(row['class'])==int(row['classification']), axis=1)\n",
    "final_result_s1 = test_data_s1.groupby(['result']).count().reset_index().rename(columns={'x': 'count'}).iloc[:,0:2]"
   ]
  },
  {
   "cell_type": "code",
   "execution_count": 12,
   "metadata": {},
   "outputs": [
    {
     "data": {
      "text/html": [
       "<div>\n",
       "<style scoped>\n",
       "    .dataframe tbody tr th:only-of-type {\n",
       "        vertical-align: middle;\n",
       "    }\n",
       "\n",
       "    .dataframe tbody tr th {\n",
       "        vertical-align: top;\n",
       "    }\n",
       "\n",
       "    .dataframe thead th {\n",
       "        text-align: right;\n",
       "    }\n",
       "</style>\n",
       "<table border=\"1\" class=\"dataframe\">\n",
       "  <thead>\n",
       "    <tr style=\"text-align: right;\">\n",
       "      <th></th>\n",
       "      <th>section</th>\n",
       "      <th>class</th>\n",
       "      <th>count</th>\n",
       "    </tr>\n",
       "  </thead>\n",
       "  <tbody>\n",
       "    <tr>\n",
       "      <th>0</th>\n",
       "      <td>0</td>\n",
       "      <td>1.0</td>\n",
       "      <td>370</td>\n",
       "    </tr>\n",
       "    <tr>\n",
       "      <th>1</th>\n",
       "      <td>1</td>\n",
       "      <td>0.0</td>\n",
       "      <td>388</td>\n",
       "    </tr>\n",
       "  </tbody>\n",
       "</table>\n",
       "</div>"
      ],
      "text/plain": [
       "   section  class  count\n",
       "0        0    1.0    370\n",
       "1        1    0.0    388"
      ]
     },
     "execution_count": 12,
     "metadata": {},
     "output_type": "execute_result"
    }
   ],
   "source": [
    "# en el clasificador se indica para cada seccion la clase dominante y la cantidad total de puntos de esa clase en el set\n",
    "#de entrenamiento\n",
    "classifier_s1"
   ]
  },
  {
   "cell_type": "code",
   "execution_count": 13,
   "metadata": {},
   "outputs": [
    {
     "data": {
      "text/html": [
       "<div>\n",
       "<style scoped>\n",
       "    .dataframe tbody tr th:only-of-type {\n",
       "        vertical-align: middle;\n",
       "    }\n",
       "\n",
       "    .dataframe tbody tr th {\n",
       "        vertical-align: top;\n",
       "    }\n",
       "\n",
       "    .dataframe thead th {\n",
       "        text-align: right;\n",
       "    }\n",
       "</style>\n",
       "<table border=\"1\" class=\"dataframe\">\n",
       "  <thead>\n",
       "    <tr style=\"text-align: right;\">\n",
       "      <th></th>\n",
       "      <th>x</th>\n",
       "      <th>y</th>\n",
       "      <th>class</th>\n",
       "      <th>section</th>\n",
       "      <th>classification</th>\n",
       "      <th>result</th>\n",
       "    </tr>\n",
       "  </thead>\n",
       "  <tbody>\n",
       "    <tr>\n",
       "      <th>285</th>\n",
       "      <td>0.813548</td>\n",
       "      <td>0.845464</td>\n",
       "      <td>1.0</td>\n",
       "      <td>0</td>\n",
       "      <td>1.0</td>\n",
       "      <td>True</td>\n",
       "    </tr>\n",
       "    <tr>\n",
       "      <th>79</th>\n",
       "      <td>0.846386</td>\n",
       "      <td>0.736619</td>\n",
       "      <td>1.0</td>\n",
       "      <td>0</td>\n",
       "      <td>1.0</td>\n",
       "      <td>True</td>\n",
       "    </tr>\n",
       "  </tbody>\n",
       "</table>\n",
       "</div>"
      ],
      "text/plain": [
       "            x         y  class  section  classification  result\n",
       "285  0.813548  0.845464    1.0        0             1.0    True\n",
       "79   0.846386  0.736619    1.0        0             1.0    True"
      ]
     },
     "execution_count": 13,
     "metadata": {},
     "output_type": "execute_result"
    }
   ],
   "source": [
    "test_data_s1.sample(2)\n",
    "# x: coordenada en x\n",
    "# y: coordenada en y\n",
    "# class: clase original a la que pertenece el punto\n",
    "# section: seccion en el plano segun esquema a la que pertenece el punto\n",
    "# classification: clasificacion de la clase realizada segun el clasificador elegido\n",
    "# result: indica si el resultado fue exitoso o fallido para la clasificacion propuesta"
   ]
  },
  {
   "cell_type": "code",
   "execution_count": 14,
   "metadata": {},
   "outputs": [
    {
     "data": {
      "text/html": [
       "<div>\n",
       "<style scoped>\n",
       "    .dataframe tbody tr th:only-of-type {\n",
       "        vertical-align: middle;\n",
       "    }\n",
       "\n",
       "    .dataframe tbody tr th {\n",
       "        vertical-align: top;\n",
       "    }\n",
       "\n",
       "    .dataframe thead th {\n",
       "        text-align: right;\n",
       "    }\n",
       "</style>\n",
       "<table border=\"1\" class=\"dataframe\">\n",
       "  <thead>\n",
       "    <tr style=\"text-align: right;\">\n",
       "      <th></th>\n",
       "      <th>result</th>\n",
       "      <th>count</th>\n",
       "    </tr>\n",
       "  </thead>\n",
       "  <tbody>\n",
       "    <tr>\n",
       "      <th>0</th>\n",
       "      <td>False</td>\n",
       "      <td>56</td>\n",
       "    </tr>\n",
       "    <tr>\n",
       "      <th>1</th>\n",
       "      <td>True</td>\n",
       "      <td>244</td>\n",
       "    </tr>\n",
       "  </tbody>\n",
       "</table>\n",
       "</div>"
      ],
      "text/plain": [
       "   result  count\n",
       "0   False     56\n",
       "1    True    244"
      ]
     },
     "execution_count": 14,
     "metadata": {},
     "output_type": "execute_result"
    }
   ],
   "source": [
    "# resultados finales para el clasificador del esquema 1\n",
    "final_result_s1"
   ]
  },
  {
   "cell_type": "code",
   "execution_count": 15,
   "metadata": {},
   "outputs": [
    {
     "data": {
      "image/png": "[encoded data removed]",
      "text/plain": [
       "<Figure size 432x288 with 1 Axes>"
      ]
     },
     "metadata": {
      "needs_background": "light"
     },
     "output_type": "display_data"
    }
   ],
   "source": [
    "%matplotlib inline\n",
    "\n",
    "plt.scatter(xtr,ytr,s=3.14)\n",
    "# draw the grid\n",
    "plt.axhline(0.5, lw=2, color='k', zorder=5)\n",
    "    \n",
    "plt.show()"
   ]
  },
  {
   "cell_type": "code",
   "execution_count": null,
   "metadata": {},
   "outputs": [],
   "source": []
  },
  {
   "cell_type": "code",
   "execution_count": null,
   "metadata": {},
   "outputs": [],
   "source": [
    "\n"
   ]
  },
  {
   "cell_type": "code",
   "execution_count": 44,
   "metadata": {},
   "outputs": [],
   "source": [
    "def runClassification(s,train, test):\n",
    "    train_data_g = train\n",
    "    train_data_g['section'] = train_data_g.apply(lambda row: getSection(s,row['x'], row['y']), axis=1)\n",
    "    section_results_g = train_data_g.groupby(['section', 'class']).count().reset_index().rename(columns={'x': 'count'}).iloc[:,0:3]\n",
    "    classifier_g = section_results_g.loc[section_results_g.groupby('section')['count'].idxmax()].reset_index().iloc[:,1:4]\n",
    "    test_data_g = test\n",
    "    test_data_g['section'] = test_data_g.apply(lambda row: getSection(s,row['x'], row['y']), axis=1)\n",
    "    test_data_g['classification'] = test_data_g.apply(lambda row, c=classifier_g.transpose(): c.at['class',int(row['section'])], axis=1)\n",
    "    test_data_g['result'] = test_data_g.apply(lambda row: int(row['class'])==int(row['classification']), axis=1)\n",
    "    final_result_g = test_data_g.groupby(['result']).count().reset_index().rename(columns={'x': 'count'}).iloc[:,0:2]\n",
    "    return final_result_g\n",
    "\n"
   ]
  },
  {
   "cell_type": "code",
   "execution_count": 43,
   "metadata": {},
   "outputs": [
    {
     "data": {
      "text/html": [
       "<div>\n",
       "<style scoped>\n",
       "    .dataframe tbody tr th:only-of-type {\n",
       "        vertical-align: middle;\n",
       "    }\n",
       "\n",
       "    .dataframe tbody tr th {\n",
       "        vertical-align: top;\n",
       "    }\n",
       "\n",
       "    .dataframe thead th {\n",
       "        text-align: right;\n",
       "    }\n",
       "</style>\n",
       "<table border=\"1\" class=\"dataframe\">\n",
       "  <thead>\n",
       "    <tr style=\"text-align: right;\">\n",
       "      <th></th>\n",
       "      <th>result</th>\n",
       "      <th>count</th>\n",
       "    </tr>\n",
       "  </thead>\n",
       "  <tbody>\n",
       "    <tr>\n",
       "      <th>0</th>\n",
       "      <td>False</td>\n",
       "      <td>56</td>\n",
       "    </tr>\n",
       "    <tr>\n",
       "      <th>1</th>\n",
       "      <td>True</td>\n",
       "      <td>244</td>\n",
       "    </tr>\n",
       "  </tbody>\n",
       "</table>\n",
       "</div>"
      ],
      "text/plain": [
       "   result  count\n",
       "0   False     56\n",
       "1    True    244"
      ]
     },
     "execution_count": 43,
     "metadata": {},
     "output_type": "execute_result"
    }
   ],
   "source": [
    "    #Analisis para esquema 1\n",
    "    #__________\n",
    "    #|         |\n",
    "    #|_________|\n",
    "    #|         |\n",
    "    #|_________|\n",
    "runClassification(1,train_data, test_data)    "
   ]
  },
  {
   "cell_type": "code",
   "execution_count": 41,
   "metadata": {},
   "outputs": [
    {
     "data": {
      "text/html": [
       "<div>\n",
       "<style scoped>\n",
       "    .dataframe tbody tr th:only-of-type {\n",
       "        vertical-align: middle;\n",
       "    }\n",
       "\n",
       "    .dataframe tbody tr th {\n",
       "        vertical-align: top;\n",
       "    }\n",
       "\n",
       "    .dataframe thead th {\n",
       "        text-align: right;\n",
       "    }\n",
       "</style>\n",
       "<table border=\"1\" class=\"dataframe\">\n",
       "  <thead>\n",
       "    <tr style=\"text-align: right;\">\n",
       "      <th></th>\n",
       "      <th>result</th>\n",
       "      <th>count</th>\n",
       "    </tr>\n",
       "  </thead>\n",
       "  <tbody>\n",
       "    <tr>\n",
       "      <th>0</th>\n",
       "      <td>False</td>\n",
       "      <td>161</td>\n",
       "    </tr>\n",
       "    <tr>\n",
       "      <th>1</th>\n",
       "      <td>True</td>\n",
       "      <td>139</td>\n",
       "    </tr>\n",
       "  </tbody>\n",
       "</table>\n",
       "</div>"
      ],
      "text/plain": [
       "   result  count\n",
       "0   False    161\n",
       "1    True    139"
      ]
     },
     "execution_count": 41,
     "metadata": {},
     "output_type": "execute_result"
    }
   ],
   "source": [
    "    #Analisis para esquema 2\n",
    "    #__________\n",
    "    #|0   |1   |\n",
    "    #|    |    |\n",
    "    #|    |    |\n",
    "    #|____|____|\n",
    "runClassification(2,train_data, test_data)    "
   ]
  },
  {
   "cell_type": "code",
   "execution_count": 42,
   "metadata": {},
   "outputs": [
    {
     "data": {
      "text/html": [
       "<div>\n",
       "<style scoped>\n",
       "    .dataframe tbody tr th:only-of-type {\n",
       "        vertical-align: middle;\n",
       "    }\n",
       "\n",
       "    .dataframe tbody tr th {\n",
       "        vertical-align: top;\n",
       "    }\n",
       "\n",
       "    .dataframe thead th {\n",
       "        text-align: right;\n",
       "    }\n",
       "</style>\n",
       "<table border=\"1\" class=\"dataframe\">\n",
       "  <thead>\n",
       "    <tr style=\"text-align: right;\">\n",
       "      <th></th>\n",
       "      <th>result</th>\n",
       "      <th>count</th>\n",
       "    </tr>\n",
       "  </thead>\n",
       "  <tbody>\n",
       "    <tr>\n",
       "      <th>0</th>\n",
       "      <td>False</td>\n",
       "      <td>56</td>\n",
       "    </tr>\n",
       "    <tr>\n",
       "      <th>1</th>\n",
       "      <td>True</td>\n",
       "      <td>244</td>\n",
       "    </tr>\n",
       "  </tbody>\n",
       "</table>\n",
       "</div>"
      ],
      "text/plain": [
       "   result  count\n",
       "0   False     56\n",
       "1    True    244"
      ]
     },
     "execution_count": 42,
     "metadata": {},
     "output_type": "execute_result"
    }
   ],
   "source": [
    "    #Analisis para esquema 3\n",
    "    #__________\n",
    "    #|0   |1   |\n",
    "    #|____|____|\n",
    "    #|2   |3   |\n",
    "    #|____|____|\n",
    "runClassification(3,train_data, test_data)"
   ]
  },
  {
   "cell_type": "code",
   "execution_count": 47,
   "metadata": {},
   "outputs": [
    {
     "data": {
      "text/html": [
       "<div>\n",
       "<style scoped>\n",
       "    .dataframe tbody tr th:only-of-type {\n",
       "        vertical-align: middle;\n",
       "    }\n",
       "\n",
       "    .dataframe tbody tr th {\n",
       "        vertical-align: top;\n",
       "    }\n",
       "\n",
       "    .dataframe thead th {\n",
       "        text-align: right;\n",
       "    }\n",
       "</style>\n",
       "<table border=\"1\" class=\"dataframe\">\n",
       "  <thead>\n",
       "    <tr style=\"text-align: right;\">\n",
       "      <th></th>\n",
       "      <th>result</th>\n",
       "      <th>count</th>\n",
       "    </tr>\n",
       "  </thead>\n",
       "  <tbody>\n",
       "    <tr>\n",
       "      <th>0</th>\n",
       "      <td>False</td>\n",
       "      <td>90</td>\n",
       "    </tr>\n",
       "    <tr>\n",
       "      <th>1</th>\n",
       "      <td>True</td>\n",
       "      <td>210</td>\n",
       "    </tr>\n",
       "  </tbody>\n",
       "</table>\n",
       "</div>"
      ],
      "text/plain": [
       "   result  count\n",
       "0   False     90\n",
       "1    True    210"
      ]
     },
     "execution_count": 47,
     "metadata": {},
     "output_type": "execute_result"
    }
   ],
   "source": [
    "    #para esquema 4\n",
    "    #__________\n",
    "    #|0       /|\n",
    "    #|      /  |\n",
    "    #|    /    |\n",
    "    #|  /    1 |\n",
    "    #|/________|\n",
    "runClassification(4,train_data, test_data)"
   ]
  },
  {
   "cell_type": "code",
   "execution_count": 51,
   "metadata": {},
   "outputs": [
    {
     "data": {
      "text/html": [
       "<div>\n",
       "<style scoped>\n",
       "    .dataframe tbody tr th:only-of-type {\n",
       "        vertical-align: middle;\n",
       "    }\n",
       "\n",
       "    .dataframe tbody tr th {\n",
       "        vertical-align: top;\n",
       "    }\n",
       "\n",
       "    .dataframe thead th {\n",
       "        text-align: right;\n",
       "    }\n",
       "</style>\n",
       "<table border=\"1\" class=\"dataframe\">\n",
       "  <thead>\n",
       "    <tr style=\"text-align: right;\">\n",
       "      <th></th>\n",
       "      <th>result</th>\n",
       "      <th>count</th>\n",
       "    </tr>\n",
       "  </thead>\n",
       "  <tbody>\n",
       "    <tr>\n",
       "      <th>0</th>\n",
       "      <td>False</td>\n",
       "      <td>96</td>\n",
       "    </tr>\n",
       "    <tr>\n",
       "      <th>1</th>\n",
       "      <td>True</td>\n",
       "      <td>204</td>\n",
       "    </tr>\n",
       "  </tbody>\n",
       "</table>\n",
       "</div>"
      ],
      "text/plain": [
       "   result  count\n",
       "0   False     96\n",
       "1    True    204"
      ]
     },
     "execution_count": 51,
     "metadata": {},
     "output_type": "execute_result"
    }
   ],
   "source": [
    "    #para esquema 5\n",
    "    #__________\n",
    "    #|\\      0 |\n",
    "    #|  \\      |\n",
    "    #|    \\    |\n",
    "    #| 1    \\  |\n",
    "    #|________\\|\n",
    "runClassification(5,train_data, test_data)    "
   ]
  },
  {
   "cell_type": "code",
   "execution_count": 54,
   "metadata": {},
   "outputs": [
    {
     "data": {
      "text/html": [
       "<div>\n",
       "<style scoped>\n",
       "    .dataframe tbody tr th:only-of-type {\n",
       "        vertical-align: middle;\n",
       "    }\n",
       "\n",
       "    .dataframe tbody tr th {\n",
       "        vertical-align: top;\n",
       "    }\n",
       "\n",
       "    .dataframe thead th {\n",
       "        text-align: right;\n",
       "    }\n",
       "</style>\n",
       "<table border=\"1\" class=\"dataframe\">\n",
       "  <thead>\n",
       "    <tr style=\"text-align: right;\">\n",
       "      <th></th>\n",
       "      <th>result</th>\n",
       "      <th>count</th>\n",
       "    </tr>\n",
       "  </thead>\n",
       "  <tbody>\n",
       "    <tr>\n",
       "      <th>0</th>\n",
       "      <td>False</td>\n",
       "      <td>90</td>\n",
       "    </tr>\n",
       "    <tr>\n",
       "      <th>1</th>\n",
       "      <td>True</td>\n",
       "      <td>210</td>\n",
       "    </tr>\n",
       "  </tbody>\n",
       "</table>\n",
       "</div>"
      ],
      "text/plain": [
       "   result  count\n",
       "0   False     90\n",
       "1    True    210"
      ]
     },
     "execution_count": 54,
     "metadata": {},
     "output_type": "execute_result"
    }
   ],
   "source": [
    "    #para esquema 6\n",
    "    #__________\n",
    "    #|\\    0   /|\n",
    "    #|  \\    /  |\n",
    "    #|1   \\/  2 |\n",
    "    #|    / \\   |\n",
    "    #|  /  3  \\ |\n",
    "    #|/________\\|\n",
    "runClassification(6,train_data, test_data) "
   ]
  },
  {
   "cell_type": "code",
   "execution_count": 81,
   "metadata": {},
   "outputs": [
    {
     "data": {
      "text/html": [
       "<div>\n",
       "<style scoped>\n",
       "    .dataframe tbody tr th:only-of-type {\n",
       "        vertical-align: middle;\n",
       "    }\n",
       "\n",
       "    .dataframe tbody tr th {\n",
       "        vertical-align: top;\n",
       "    }\n",
       "\n",
       "    .dataframe thead th {\n",
       "        text-align: right;\n",
       "    }\n",
       "</style>\n",
       "<table border=\"1\" class=\"dataframe\">\n",
       "  <thead>\n",
       "    <tr style=\"text-align: right;\">\n",
       "      <th></th>\n",
       "      <th>classificator</th>\n",
       "      <th>errors</th>\n",
       "      <th>valid</th>\n",
       "    </tr>\n",
       "  </thead>\n",
       "  <tbody>\n",
       "    <tr>\n",
       "      <th>0</th>\n",
       "      <td>1</td>\n",
       "      <td>56</td>\n",
       "      <td>244</td>\n",
       "    </tr>\n",
       "    <tr>\n",
       "      <th>2</th>\n",
       "      <td>3</td>\n",
       "      <td>56</td>\n",
       "      <td>244</td>\n",
       "    </tr>\n",
       "    <tr>\n",
       "      <th>3</th>\n",
       "      <td>4</td>\n",
       "      <td>90</td>\n",
       "      <td>210</td>\n",
       "    </tr>\n",
       "    <tr>\n",
       "      <th>5</th>\n",
       "      <td>6</td>\n",
       "      <td>90</td>\n",
       "      <td>210</td>\n",
       "    </tr>\n",
       "    <tr>\n",
       "      <th>4</th>\n",
       "      <td>5</td>\n",
       "      <td>96</td>\n",
       "      <td>204</td>\n",
       "    </tr>\n",
       "    <tr>\n",
       "      <th>1</th>\n",
       "      <td>2</td>\n",
       "      <td>161</td>\n",
       "      <td>139</td>\n",
       "    </tr>\n",
       "  </tbody>\n",
       "</table>\n",
       "</div>"
      ],
      "text/plain": [
       "   classificator  errors  valid\n",
       "0              1      56    244\n",
       "2              3      56    244\n",
       "3              4      90    210\n",
       "5              6      90    210\n",
       "4              5      96    204\n",
       "1              2     161    139"
      ]
     },
     "execution_count": 81,
     "metadata": {},
     "output_type": "execute_result"
    }
   ],
   "source": [
    "cols=['classificator','errors','valid']\n",
    "lst=[]\n",
    "for i in range(1, 7):\n",
    "    classification = runClassification(i,train_data, test_data)\n",
    "    lst.append([i,classification.at[0,'count'], classification.at[1,'count']])\n",
    "general_result = pd.DataFrame(lst,columns=cols)\n",
    "general_result.sort_values(by=['errors'],ascending=1)"
   ]
  },
  {
   "cell_type": "code",
   "execution_count": 62,
   "metadata": {},
   "outputs": [],
   "source": []
  },
  {
   "cell_type": "code",
   "execution_count": 70,
   "metadata": {},
   "outputs": [
    {
     "data": {
      "text/plain": [
       "False"
      ]
     },
     "execution_count": 70,
     "metadata": {},
     "output_type": "execute_result"
    }
   ],
   "source": []
  },
  {
   "cell_type": "code",
   "execution_count": null,
   "metadata": {},
   "outputs": [],
   "source": []
  }
 ],
 "metadata": {
  "kernelspec": {
   "display_name": "Python 3",
   "language": "python",
   "name": "python3"
  },
  "language_info": {
   "codemirror_mode": {
    "name": "ipython",
    "version": 3
   },
   "file_extension": ".py",
   "mimetype": "text/x-python",
   "name": "python",
   "nbconvert_exporter": "python",
   "pygments_lexer": "ipython3",
   "version": "3.5.2"
  }
 },
 "nbformat": 4,
 "nbformat_minor": 2
}
